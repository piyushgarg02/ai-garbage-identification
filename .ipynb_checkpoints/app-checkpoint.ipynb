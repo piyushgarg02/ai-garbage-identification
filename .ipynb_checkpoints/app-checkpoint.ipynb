{
 "cells": [
  {
   "cell_type": "code",
   "execution_count": null,
   "id": "b74fb123",
   "metadata": {},
   "outputs": [],
   "source": [
    "# Import the necessary libraries\n",
    "\n",
    "import tensorflow as tf\n",
    "import numpy as np\n",
    "import pandas as pd\n",
    "from PIL import Image\n",
    "from io import BytesIO\n",
    "from flask import Flask, jsonify, request, render_template\n",
    "\n",
    "import json\n",
    "import pickle"
   ]
  },
  {
   "cell_type": "code",
   "execution_count": null,
   "id": "1afdd99e",
   "metadata": {},
   "outputs": [],
   "source": [
    "class Garbage_Collection_Point:\n",
    "    garbage_type = ''\n",
    "    collection_points = ['']"
   ]
  },
  {
   "cell_type": "code",
   "execution_count": null,
   "id": "97193906",
   "metadata": {},
   "outputs": [],
   "source": [
    "class_labels = ['battery','brown-glass','cardboard','paper','plastic','shoes']\n",
    "\n",
    "collection_points = {\"collection point\": ['Ecowrap',\n",
    "                                          'Ecowrap',\n",
    "                                          'Ecowrap',\n",
    "                                          'RaddiDedo',\n",
    "                                          'RaddiDedo',\n",
    "                                          'Zero Waste Recycling Pvt Ltd',\n",
    "                                          'Zero Waste Recycling Pvt Ltd',\n",
    "                                          'Detoxen Enviro Solutions',\n",
    "                                          'Detoxen Enviro Solutions',\n",
    "                                          'Detoxen Enviro Solutions',\n",
    "                                          'Detoxen Enviro Solutions',\n",
    "                                          'Ecowrap',\n",
    "                                          'Ecowrap',\n",
    "                                          'Ecowrap'],\n",
    "                     \"garbage_type\": ['battery','brown-glass','cardboard',\n",
    "                                      'brown-glass','cardboard',\n",
    "                                      'paper','plastic',\n",
    "                                      'battery','brown-glass','cardboard','shoes',\n",
    "                                      'brown-glass','cardboard', 'shoes'\n",
    "                                     ],\n",
    "                     }\n",
    "\n",
    "garbage_collection_point_df = pd.DataFrame(collection_points)\n",
    "#garbage_collection_point_df.sort_values(by='garbage_type')"
   ]
  },
  {
   "cell_type": "code",
   "execution_count": null,
   "id": "952609ee",
   "metadata": {},
   "outputs": [],
   "source": [
    "# testing code\n",
    "# result = garbage_collection_point_df.loc[garbage_collection_point_df['garbage_type'] == 'battery', 'collection point'].tolist()\n",
    "# #create object\n",
    "# collection_points = Garbage_Collection_Point()\n",
    "# collection_points.garbage_type = \"battery\"\n",
    "# collection_points.collection_points = result\n",
    "\n",
    "# predict_result = json.dumps(collection_points.__dict__)\n",
    "    \n",
    "# print (predict_result)"
   ]
  },
  {
   "cell_type": "code",
   "execution_count": null,
   "id": "46c84daf",
   "metadata": {},
   "outputs": [],
   "source": [
    "# 1. define a prediction function\n",
    "\n",
    "def predict_garbage(model, image_bytes):\n",
    "    \n",
    "    # Preprocess the image    \n",
    "    image_bytes = image_bytes.resize((120, 120))\n",
    "    image_bytes = np.array(image_bytes) / 255.0\n",
    "    image_bytes = np.expand_dims(image_bytes, axis=0)\n",
    "    \n",
    "    # Make the prediction\n",
    "    prediction = model.predict(image_bytes)\n",
    "    predicted_class = class_labels[np.argmax(prediction)] \n",
    "    \n",
    "    result = garbage_collection_point_df.loc[garbage_collection_point_df['garbage_type'] == predicted_class, 'collection point'].tolist()\n",
    "    \n",
    "    #create object\n",
    "    collection_points = Garbage_Collection_Point()\n",
    "    collection_points.garbage_type = predicted_class\n",
    "    collection_points.collection_points = result\n",
    "    \n",
    "    predict_result = json.dumps(collection_points.__dict__)\n",
    "    \n",
    "    return predict_result"
   ]
  },
  {
   "cell_type": "code",
   "execution_count": null,
   "id": "87ffb1ea",
   "metadata": {},
   "outputs": [],
   "source": [
    "# 2. create an instance of the flask class\n",
    "\n",
    "app = Flask(__name__, template_folder='templates')"
   ]
  },
  {
   "cell_type": "code",
   "execution_count": null,
   "id": "c7e951ba",
   "metadata": {
    "scrolled": true
   },
   "outputs": [],
   "source": [
    "# 3. load the model for predict\n",
    "\n",
    "with open('models/garbage_classification_model_pickle.pkl', 'rb') as file:\n",
    "    model = pickle.load(file)"
   ]
  },
  {
   "cell_type": "code",
   "execution_count": null,
   "id": "2a30d024",
   "metadata": {},
   "outputs": [],
   "source": [
    "# 4. set up our home page\n",
    "\n",
    "@app.route('/', methods=['GET'])\n",
    "@app.route('/index', methods=['GET'])\n",
    "\n",
    "# create a separate index.html page and then load it\n",
    "def index():\n",
    "    \"\"\"Renders the home page, with a list of all polls.\"\"\"\n",
    "    \n",
    "    return render_template('index.html', title='Home')"
   ]
  },
  {
   "cell_type": "code",
   "execution_count": null,
   "id": "fcb3f429",
   "metadata": {},
   "outputs": [],
   "source": [
    "# 5. define a new route to predict\n",
    "\n",
    "@app.route('/predict', methods=['POST'])\n",
    "def predict():\n",
    "    \n",
    "    # validation\n",
    "    # Check if request contains a file\n",
    "    if 'image' not in request.files:\n",
    "        return jsonify({'error_message': \"Request file is empty!\"})\n",
    "    \n",
    "    # get the data from the request\n",
    "    image_data = request.files['image'].read()\n",
    "    image_bytes = Image.open(BytesIO(image_data))\n",
    "    \n",
    "    # make predictions on the data\n",
    "    prediction_result = predict_garbage(model, image_bytes)   \n",
    "    \n",
    "    return prediction_result    "
   ]
  },
  {
   "cell_type": "code",
   "execution_count": null,
   "id": "7f3d9d38",
   "metadata": {},
   "outputs": [],
   "source": [
    "# 6. allows the jupyter notebook to run flask using python app.py\n",
    "\n",
    "if __name__ == '__main__':\n",
    "    app.run()"
   ]
  },
  {
   "cell_type": "code",
   "execution_count": null,
   "id": "ffd7ecc2",
   "metadata": {},
   "outputs": [],
   "source": []
  }
 ],
 "metadata": {
  "kernelspec": {
   "display_name": "Python 3 (ipykernel)",
   "language": "python",
   "name": "python3"
  },
  "language_info": {
   "codemirror_mode": {
    "name": "ipython",
    "version": 3
   },
   "file_extension": ".py",
   "mimetype": "text/x-python",
   "name": "python",
   "nbconvert_exporter": "python",
   "pygments_lexer": "ipython3",
   "version": "3.9.12"
  }
 },
 "nbformat": 4,
 "nbformat_minor": 5
}
